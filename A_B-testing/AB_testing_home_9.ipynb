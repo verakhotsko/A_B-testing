{
 "cells": [
  {
   "cell_type": "code",
   "execution_count": 30,
   "id": "95f43907",
   "metadata": {},
   "outputs": [],
   "source": [
    "from scipy import stats\n",
    "import numpy as np\n",
    "import matplotlib.pyplot as plt\n",
    "import seaborn as sns\n",
    "import pandas as pd\n",
    "import warnings\n",
    "warnings.filterwarnings('ignore')\n",
    "warnings.warn('DelftStack')\n",
    "warnings.warn('Do not show this message')\n",
    "from statsmodels.stats import proportion"
   ]
  },
  {
   "cell_type": "markdown",
   "id": "9bc0a8c2",
   "metadata": {},
   "source": [
    "### Задание: проанализируйте результаты эксперимента и напишите свои рекомендации менеджеру.\n",
    "### Описание датасета:\n",
    "#### У нас есть данные о 90 189 игроках, которые установили игру во время проведения AB-теста. Когда игрок устанавливал игру, он или она случайным образом попадали в одну из них.\n",
    "#### userid - Уникальный номер, идентифицирующий каждого игрока.\n",
    "#### version - Игрок в контрольной группе gate_30. Игрок в тестируемой группе gate_40.\n",
    "#### sum_gamerounds - Количество игровых раундов, сыгранных игроком в течение первых 14 дней после установки.\n",
    "#### retention_1 - Вернулся ли игрок в игру после первого дня от установки (0 - нет, 1 - да).\n",
    "#### retention_7 - Вернулся ли игрок в игру после 7 дней от установки (0 - нет, 1 - да). "
   ]
  },
  {
   "cell_type": "code",
   "execution_count": 4,
   "id": "1f3d8aef",
   "metadata": {},
   "outputs": [
    {
     "data": {
      "text/html": [
       "<div>\n",
       "<style scoped>\n",
       "    .dataframe tbody tr th:only-of-type {\n",
       "        vertical-align: middle;\n",
       "    }\n",
       "\n",
       "    .dataframe tbody tr th {\n",
       "        vertical-align: top;\n",
       "    }\n",
       "\n",
       "    .dataframe thead th {\n",
       "        text-align: right;\n",
       "    }\n",
       "</style>\n",
       "<table border=\"1\" class=\"dataframe\">\n",
       "  <thead>\n",
       "    <tr style=\"text-align: right;\">\n",
       "      <th></th>\n",
       "      <th>userid</th>\n",
       "      <th>version</th>\n",
       "      <th>sum_gamerounds</th>\n",
       "      <th>retention_1</th>\n",
       "      <th>retention_7</th>\n",
       "    </tr>\n",
       "  </thead>\n",
       "  <tbody>\n",
       "    <tr>\n",
       "      <th>0</th>\n",
       "      <td>116</td>\n",
       "      <td>gate_30</td>\n",
       "      <td>3</td>\n",
       "      <td>0</td>\n",
       "      <td>0</td>\n",
       "    </tr>\n",
       "    <tr>\n",
       "      <th>1</th>\n",
       "      <td>337</td>\n",
       "      <td>gate_30</td>\n",
       "      <td>38</td>\n",
       "      <td>1</td>\n",
       "      <td>0</td>\n",
       "    </tr>\n",
       "    <tr>\n",
       "      <th>2</th>\n",
       "      <td>377</td>\n",
       "      <td>gate_40</td>\n",
       "      <td>165</td>\n",
       "      <td>1</td>\n",
       "      <td>0</td>\n",
       "    </tr>\n",
       "    <tr>\n",
       "      <th>3</th>\n",
       "      <td>483</td>\n",
       "      <td>gate_40</td>\n",
       "      <td>1</td>\n",
       "      <td>0</td>\n",
       "      <td>0</td>\n",
       "    </tr>\n",
       "    <tr>\n",
       "      <th>4</th>\n",
       "      <td>488</td>\n",
       "      <td>gate_40</td>\n",
       "      <td>179</td>\n",
       "      <td>1</td>\n",
       "      <td>1</td>\n",
       "    </tr>\n",
       "    <tr>\n",
       "      <th>...</th>\n",
       "      <td>...</td>\n",
       "      <td>...</td>\n",
       "      <td>...</td>\n",
       "      <td>...</td>\n",
       "      <td>...</td>\n",
       "    </tr>\n",
       "    <tr>\n",
       "      <th>90184</th>\n",
       "      <td>9999441</td>\n",
       "      <td>gate_40</td>\n",
       "      <td>97</td>\n",
       "      <td>1</td>\n",
       "      <td>0</td>\n",
       "    </tr>\n",
       "    <tr>\n",
       "      <th>90185</th>\n",
       "      <td>9999479</td>\n",
       "      <td>gate_40</td>\n",
       "      <td>30</td>\n",
       "      <td>0</td>\n",
       "      <td>0</td>\n",
       "    </tr>\n",
       "    <tr>\n",
       "      <th>90186</th>\n",
       "      <td>9999710</td>\n",
       "      <td>gate_30</td>\n",
       "      <td>28</td>\n",
       "      <td>1</td>\n",
       "      <td>0</td>\n",
       "    </tr>\n",
       "    <tr>\n",
       "      <th>90187</th>\n",
       "      <td>9999768</td>\n",
       "      <td>gate_40</td>\n",
       "      <td>51</td>\n",
       "      <td>1</td>\n",
       "      <td>0</td>\n",
       "    </tr>\n",
       "    <tr>\n",
       "      <th>90188</th>\n",
       "      <td>9999861</td>\n",
       "      <td>gate_40</td>\n",
       "      <td>16</td>\n",
       "      <td>0</td>\n",
       "      <td>0</td>\n",
       "    </tr>\n",
       "  </tbody>\n",
       "</table>\n",
       "<p>90189 rows × 5 columns</p>\n",
       "</div>"
      ],
      "text/plain": [
       "        userid  version  sum_gamerounds  retention_1  retention_7\n",
       "0          116  gate_30               3            0            0\n",
       "1          337  gate_30              38            1            0\n",
       "2          377  gate_40             165            1            0\n",
       "3          483  gate_40               1            0            0\n",
       "4          488  gate_40             179            1            1\n",
       "...        ...      ...             ...          ...          ...\n",
       "90184  9999441  gate_40              97            1            0\n",
       "90185  9999479  gate_40              30            0            0\n",
       "90186  9999710  gate_30              28            1            0\n",
       "90187  9999768  gate_40              51            1            0\n",
       "90188  9999861  gate_40              16            0            0\n",
       "\n",
       "[90189 rows x 5 columns]"
      ]
     },
     "execution_count": 4,
     "metadata": {},
     "output_type": "execute_result"
    }
   ],
   "source": [
    "df = pd.read_csv('результаты А_B - cookie_cats 2.csv')\n",
    "df"
   ]
  },
  {
   "cell_type": "markdown",
   "id": "31273e8f",
   "metadata": {},
   "source": [
    "### Очистка данных.\n",
    "#### 1) Проверим данные на совпадение типов и пропущенные значения:"
   ]
  },
  {
   "cell_type": "code",
   "execution_count": 5,
   "id": "f5c8d3a9",
   "metadata": {},
   "outputs": [
    {
     "name": "stdout",
     "output_type": "stream",
     "text": [
      "<class 'pandas.core.frame.DataFrame'>\n",
      "RangeIndex: 90189 entries, 0 to 90188\n",
      "Data columns (total 5 columns):\n",
      " #   Column          Non-Null Count  Dtype \n",
      "---  ------          --------------  ----- \n",
      " 0   userid          90189 non-null  int64 \n",
      " 1   version         90189 non-null  object\n",
      " 2   sum_gamerounds  90189 non-null  int64 \n",
      " 3   retention_1     90189 non-null  int64 \n",
      " 4   retention_7     90189 non-null  int64 \n",
      "dtypes: int64(4), object(1)\n",
      "memory usage: 3.4+ MB\n"
     ]
    }
   ],
   "source": [
    "df.info()"
   ]
  },
  {
   "cell_type": "code",
   "execution_count": 6,
   "id": "e5273596",
   "metadata": {},
   "outputs": [
    {
     "data": {
      "text/plain": [
       "userid  version  sum_gamerounds  retention_1  retention_7\n",
       "False   False    False           False        False          90189\n",
       "dtype: int64"
      ]
     },
     "execution_count": 6,
     "metadata": {},
     "output_type": "execute_result"
    }
   ],
   "source": [
    "df.isnull().value_counts()"
   ]
  },
  {
   "cell_type": "markdown",
   "id": "9a7c1cc3",
   "metadata": {},
   "source": [
    "#### 2) Проверим есть ли повторы в уникальных номерах игроков:"
   ]
  },
  {
   "cell_type": "code",
   "execution_count": 7,
   "id": "e051ed58",
   "metadata": {},
   "outputs": [
    {
     "data": {
      "text/plain": [
       "False    90189\n",
       "Name: userid, dtype: int64"
      ]
     },
     "execution_count": 7,
     "metadata": {},
     "output_type": "execute_result"
    }
   ],
   "source": [
    "df.userid.duplicated().value_counts()"
   ]
  },
  {
   "cell_type": "markdown",
   "id": "14160a5a",
   "metadata": {},
   "source": [
    "#### Как видим данные чистые: типы данных соответствуют описанию метрики, пропущенных значений нет, дупликатов уникальных номеров также нет."
   ]
  },
  {
   "cell_type": "markdown",
   "id": "319e193f",
   "metadata": {},
   "source": [
    "### Анализ данных: \n",
    "#### 1) Разобьем наш датасет на два - контрольную (df_30) и тестовую группы (df_40):"
   ]
  },
  {
   "cell_type": "code",
   "execution_count": 8,
   "id": "78af49b0",
   "metadata": {},
   "outputs": [
    {
     "data": {
      "text/html": [
       "<div>\n",
       "<style scoped>\n",
       "    .dataframe tbody tr th:only-of-type {\n",
       "        vertical-align: middle;\n",
       "    }\n",
       "\n",
       "    .dataframe tbody tr th {\n",
       "        vertical-align: top;\n",
       "    }\n",
       "\n",
       "    .dataframe thead th {\n",
       "        text-align: right;\n",
       "    }\n",
       "</style>\n",
       "<table border=\"1\" class=\"dataframe\">\n",
       "  <thead>\n",
       "    <tr style=\"text-align: right;\">\n",
       "      <th></th>\n",
       "      <th>userid</th>\n",
       "      <th>sum_gamerounds</th>\n",
       "      <th>retention_1</th>\n",
       "      <th>retention_7</th>\n",
       "    </tr>\n",
       "  </thead>\n",
       "  <tbody>\n",
       "    <tr>\n",
       "      <th>count</th>\n",
       "      <td>4.470000e+04</td>\n",
       "      <td>44700.000000</td>\n",
       "      <td>44700.000000</td>\n",
       "      <td>44700.000000</td>\n",
       "    </tr>\n",
       "    <tr>\n",
       "      <th>mean</th>\n",
       "      <td>4.987564e+06</td>\n",
       "      <td>52.456264</td>\n",
       "      <td>0.448188</td>\n",
       "      <td>0.190201</td>\n",
       "    </tr>\n",
       "    <tr>\n",
       "      <th>std</th>\n",
       "      <td>2.881026e+06</td>\n",
       "      <td>256.716423</td>\n",
       "      <td>0.497314</td>\n",
       "      <td>0.392464</td>\n",
       "    </tr>\n",
       "    <tr>\n",
       "      <th>min</th>\n",
       "      <td>1.160000e+02</td>\n",
       "      <td>0.000000</td>\n",
       "      <td>0.000000</td>\n",
       "      <td>0.000000</td>\n",
       "    </tr>\n",
       "    <tr>\n",
       "      <th>25%</th>\n",
       "      <td>2.505469e+06</td>\n",
       "      <td>5.000000</td>\n",
       "      <td>0.000000</td>\n",
       "      <td>0.000000</td>\n",
       "    </tr>\n",
       "    <tr>\n",
       "      <th>50%</th>\n",
       "      <td>4.983631e+06</td>\n",
       "      <td>17.000000</td>\n",
       "      <td>0.000000</td>\n",
       "      <td>0.000000</td>\n",
       "    </tr>\n",
       "    <tr>\n",
       "      <th>75%</th>\n",
       "      <td>7.481497e+06</td>\n",
       "      <td>50.000000</td>\n",
       "      <td>1.000000</td>\n",
       "      <td>0.000000</td>\n",
       "    </tr>\n",
       "    <tr>\n",
       "      <th>max</th>\n",
       "      <td>9.999710e+06</td>\n",
       "      <td>49854.000000</td>\n",
       "      <td>1.000000</td>\n",
       "      <td>1.000000</td>\n",
       "    </tr>\n",
       "  </tbody>\n",
       "</table>\n",
       "</div>"
      ],
      "text/plain": [
       "             userid  sum_gamerounds   retention_1   retention_7\n",
       "count  4.470000e+04    44700.000000  44700.000000  44700.000000\n",
       "mean   4.987564e+06       52.456264      0.448188      0.190201\n",
       "std    2.881026e+06      256.716423      0.497314      0.392464\n",
       "min    1.160000e+02        0.000000      0.000000      0.000000\n",
       "25%    2.505469e+06        5.000000      0.000000      0.000000\n",
       "50%    4.983631e+06       17.000000      0.000000      0.000000\n",
       "75%    7.481497e+06       50.000000      1.000000      0.000000\n",
       "max    9.999710e+06    49854.000000      1.000000      1.000000"
      ]
     },
     "execution_count": 8,
     "metadata": {},
     "output_type": "execute_result"
    }
   ],
   "source": [
    "df_30 = df[df['version'] == 'gate_30']\n",
    "df_30.describe()"
   ]
  },
  {
   "cell_type": "code",
   "execution_count": 9,
   "id": "44066c1f",
   "metadata": {},
   "outputs": [
    {
     "data": {
      "text/html": [
       "<div>\n",
       "<style scoped>\n",
       "    .dataframe tbody tr th:only-of-type {\n",
       "        vertical-align: middle;\n",
       "    }\n",
       "\n",
       "    .dataframe tbody tr th {\n",
       "        vertical-align: top;\n",
       "    }\n",
       "\n",
       "    .dataframe thead th {\n",
       "        text-align: right;\n",
       "    }\n",
       "</style>\n",
       "<table border=\"1\" class=\"dataframe\">\n",
       "  <thead>\n",
       "    <tr style=\"text-align: right;\">\n",
       "      <th></th>\n",
       "      <th>userid</th>\n",
       "      <th>sum_gamerounds</th>\n",
       "      <th>retention_1</th>\n",
       "      <th>retention_7</th>\n",
       "    </tr>\n",
       "  </thead>\n",
       "  <tbody>\n",
       "    <tr>\n",
       "      <th>count</th>\n",
       "      <td>4.548900e+04</td>\n",
       "      <td>45489.000000</td>\n",
       "      <td>45489.000000</td>\n",
       "      <td>45489.000000</td>\n",
       "    </tr>\n",
       "    <tr>\n",
       "      <th>mean</th>\n",
       "      <td>5.009073e+06</td>\n",
       "      <td>51.298776</td>\n",
       "      <td>0.442283</td>\n",
       "      <td>0.182000</td>\n",
       "    </tr>\n",
       "    <tr>\n",
       "      <th>std</th>\n",
       "      <td>2.885496e+06</td>\n",
       "      <td>103.294416</td>\n",
       "      <td>0.496663</td>\n",
       "      <td>0.385849</td>\n",
       "    </tr>\n",
       "    <tr>\n",
       "      <th>min</th>\n",
       "      <td>3.770000e+02</td>\n",
       "      <td>0.000000</td>\n",
       "      <td>0.000000</td>\n",
       "      <td>0.000000</td>\n",
       "    </tr>\n",
       "    <tr>\n",
       "      <th>25%</th>\n",
       "      <td>2.517171e+06</td>\n",
       "      <td>5.000000</td>\n",
       "      <td>0.000000</td>\n",
       "      <td>0.000000</td>\n",
       "    </tr>\n",
       "    <tr>\n",
       "      <th>50%</th>\n",
       "      <td>5.007329e+06</td>\n",
       "      <td>16.000000</td>\n",
       "      <td>0.000000</td>\n",
       "      <td>0.000000</td>\n",
       "    </tr>\n",
       "    <tr>\n",
       "      <th>75%</th>\n",
       "      <td>7.510762e+06</td>\n",
       "      <td>52.000000</td>\n",
       "      <td>1.000000</td>\n",
       "      <td>0.000000</td>\n",
       "    </tr>\n",
       "    <tr>\n",
       "      <th>max</th>\n",
       "      <td>9.999861e+06</td>\n",
       "      <td>2640.000000</td>\n",
       "      <td>1.000000</td>\n",
       "      <td>1.000000</td>\n",
       "    </tr>\n",
       "  </tbody>\n",
       "</table>\n",
       "</div>"
      ],
      "text/plain": [
       "             userid  sum_gamerounds   retention_1   retention_7\n",
       "count  4.548900e+04    45489.000000  45489.000000  45489.000000\n",
       "mean   5.009073e+06       51.298776      0.442283      0.182000\n",
       "std    2.885496e+06      103.294416      0.496663      0.385849\n",
       "min    3.770000e+02        0.000000      0.000000      0.000000\n",
       "25%    2.517171e+06        5.000000      0.000000      0.000000\n",
       "50%    5.007329e+06       16.000000      0.000000      0.000000\n",
       "75%    7.510762e+06       52.000000      1.000000      0.000000\n",
       "max    9.999861e+06     2640.000000      1.000000      1.000000"
      ]
     },
     "execution_count": 9,
     "metadata": {},
     "output_type": "execute_result"
    }
   ],
   "source": [
    "df_40 = df[df['version'] == 'gate_40']\n",
    "df_40.describe()"
   ]
  },
  {
   "cell_type": "markdown",
   "id": "a6bfce52",
   "metadata": {},
   "source": [
    "#### Как видим из сводной статистики по двум группам, особых различий в среднем, стандартном отклонении и квантилях нет. Существенное отличие  есть в показателе max в контрольной группе - 49 854, посмотрим на него графически. "
   ]
  },
  {
   "cell_type": "code",
   "execution_count": 10,
   "id": "c50cbc7a",
   "metadata": {},
   "outputs": [
    {
     "data": {
      "image/png": "[encoded data removed]",
      "text/plain": [
       "<Figure size 400x400 with 1 Axes>"
      ]
     },
     "metadata": {},
     "output_type": "display_data"
    }
   ],
   "source": [
    "plt.figure(figsize=(4, 4))\n",
    "sns.boxplot(df_30, x= 'sum_gamerounds');\n",
    "plt.show()"
   ]
  },
  {
   "cell_type": "markdown",
   "id": "b5a3543f",
   "metadata": {},
   "source": [
    "#### Это единичный выброс, поэтому лучшего его исключить из выборки."
   ]
  },
  {
   "cell_type": "code",
   "execution_count": 11,
   "id": "0731b1f8",
   "metadata": {},
   "outputs": [],
   "source": [
    "df_30 = df_30[df_30['sum_gamerounds'] < 10000]"
   ]
  },
  {
   "cell_type": "code",
   "execution_count": 12,
   "id": "e4e51725",
   "metadata": {},
   "outputs": [
    {
     "data": {
      "image/png": "[encoded data removed]",
      "text/plain": [
       "<Figure size 400x400 with 1 Axes>"
      ]
     },
     "metadata": {},
     "output_type": "display_data"
    }
   ],
   "source": [
    "plt.figure(figsize=(4, 4))\n",
    "sns.boxplot(df_30, x= 'sum_gamerounds');\n",
    "plt.show()"
   ]
  },
  {
   "cell_type": "code",
   "execution_count": 13,
   "id": "46f02e41",
   "metadata": {},
   "outputs": [
    {
     "data": {
      "image/png": "[encoded data removed]",
      "text/plain": [
       "<Figure size 400x400 with 1 Axes>"
      ]
     },
     "metadata": {},
     "output_type": "display_data"
    }
   ],
   "source": [
    "plt.figure(figsize=(4, 4))\n",
    "sns.boxplot(df_40, x= 'sum_gamerounds');\n",
    "plt.show()"
   ]
  },
  {
   "cell_type": "markdown",
   "id": "f3521bd9",
   "metadata": {},
   "source": [
    "#### 2) будем сравнивать две группы по трём метрикам sum_gamerounds, retention_1, retention_2.\n",
    "### sum_gamerounds:\n"
   ]
  },
  {
   "cell_type": "code",
   "execution_count": 48,
   "id": "bf6e7bd3",
   "metadata": {},
   "outputs": [],
   "source": [
    "total_30 = df_30['sum_gamerounds'].sum()\n",
    "total_40 = df_40['sum_gamerounds'].sum()"
   ]
  },
  {
   "cell_type": "code",
   "execution_count": 56,
   "id": "50226883",
   "metadata": {},
   "outputs": [
    {
     "data": {
      "image/png": "[encoded data removed]",
      "text/plain": [
       "<Figure size 600x600 with 1 Axes>"
      ]
     },
     "metadata": {},
     "output_type": "display_data"
    }
   ],
   "source": [
    "plt.figure(figsize=(6, 6))\n",
    "sns.barplot(x=['Контрольная', 'Тестовая'], y=np.array([total_30, total_40]))\n",
    "plt.ylabel('Сумма всех геймраундов в млн.')\n",
    "plt.show()"
   ]
  },
  {
   "cell_type": "code",
   "execution_count": 62,
   "id": "0301a651",
   "metadata": {},
   "outputs": [
    {
     "name": "stdout",
     "output_type": "stream",
     "text": [
      "38589\n"
     ]
    }
   ],
   "source": [
    "print(total_40 - total_30)"
   ]
  },
  {
   "cell_type": "markdown",
   "id": "84a3d963",
   "metadata": {},
   "source": [
    "#### Как видим на диаграмме количество всех геймраундов выше в тестовой группе на 38 589. Проверим статистическую значимость данного отличия.\n",
    "#### Но - гипотеза: данное отличие случайно. Н1 - гипотеза: отличие количества геймраундов в тестовой группе статистически значимо.\n"
   ]
  },
  {
   "cell_type": "markdown",
   "id": "af6d6b4f",
   "metadata": {},
   "source": [
    "#### По двум вышележащим графикам видно, что метрика sum_gamerounds распределена не нормально, значит будем использовать критерий Манна-Уитни."
   ]
  },
  {
   "cell_type": "code",
   "execution_count": 64,
   "id": "b3d5db14",
   "metadata": {},
   "outputs": [
    {
     "data": {
      "text/plain": [
       "MannwhitneyuResult(statistic=1024285761.5, pvalue=0.05089155279145376)"
      ]
     },
     "execution_count": 64,
     "metadata": {},
     "output_type": "execute_result"
    }
   ],
   "source": [
    "null_hypothesis = 'Увеличение количества геймраундов в тестовой группе случайно.'\n",
    "alternive_hypothesis = 'Увеличение количества геймраундов в тестовой группе статистически значимо.'\n",
    "alfa = 0.05\n",
    "\n",
    "mw_stat = stats.mannwhitneyu(df_30['sum_gamerounds'], df_40['sum_gamerounds'])\n",
    "mw_stat"
   ]
  },
  {
   "cell_type": "code",
   "execution_count": 65,
   "id": "e959d653",
   "metadata": {},
   "outputs": [
    {
     "name": "stdout",
     "output_type": "stream",
     "text": [
      "Увеличение количества геймраундов в тестовой группе случайно.\n"
     ]
    }
   ],
   "source": [
    "if mw_stat[1] < alfa:\n",
    "    print(alternive_hypothesis)\n",
    "else:\n",
    "    print(null_hypothesis)"
   ]
  },
  {
   "cell_type": "markdown",
   "id": "6d5a66bd",
   "metadata": {},
   "source": [
    "### retention_1\n",
    "#### Посчитаем процент возврата игроков в 1 день в двух группах:"
   ]
  },
  {
   "cell_type": "code",
   "execution_count": 16,
   "id": "3262cefe",
   "metadata": {},
   "outputs": [],
   "source": [
    "ret_1_rate_30 = round(df_30.query('retention_1 == 1').shape[0] / df_30['retention_1'].shape[0], 3) \n",
    "ret_1_rate_40 = round(df_40.query('retention_1 == 1').shape[0] / df_40['retention_1'].shape[0], 3) "
   ]
  },
  {
   "cell_type": "code",
   "execution_count": 17,
   "id": "a4341c80",
   "metadata": {},
   "outputs": [
    {
     "name": "stdout",
     "output_type": "stream",
     "text": [
      "Процент возврата игроков в 1 день в контрольной группе: 44.800000000000004\n",
      "Процент возврата игроков в 1 день в тестовой группе: 44.2\n"
     ]
    }
   ],
   "source": [
    "print('Процент возврата игроков в 1 день в контрольной группе:', ret_1_rate_30*100)\n",
    "print('Процент возврата игроков в 1 день в тестовой группе:', ret_1_rate_40*100)"
   ]
  },
  {
   "cell_type": "markdown",
   "id": "b938bd34",
   "metadata": {},
   "source": [
    "#### Отличия незначительые: уменьшение в тестовой группе на 0,6 %. Необходимо убедиться, что данное отличие имеет значимость или просто случайность.\n",
    "#### Но - гипотеза: снижение процента возврата игроков случайность, Н1 - гипотеза: данное снижение статистически значимо.\n",
    "#### Воспользуемся z-тестом для пропорций"
   ]
  },
  {
   "cell_type": "code",
   "execution_count": 29,
   "id": "ff434ceb",
   "metadata": {},
   "outputs": [],
   "source": [
    "# количество вернувшихся игроков в контрольной группе\n",
    "k_30 = df_30['retention_1'].sum()\n",
    "\n",
    "# общее количество игроков в контрольной группе\n",
    "n_30 = df_30['retention_1'].shape[0]\n",
    "\n",
    "# количество вернувшихся игроков в тестовой группе\n",
    "k_40 = df_40['retention_1'].sum()\n",
    "\n",
    "# общее количество игроков в тестовой группе\n",
    "n_40 = df_40['retention_1'].shape[0]"
   ]
  },
  {
   "cell_type": "code",
   "execution_count": 37,
   "id": "dff74f1b",
   "metadata": {},
   "outputs": [
    {
     "name": "stdout",
     "output_type": "stream",
     "text": [
      "Снижение процента возврата игроков случайность.\n"
     ]
    }
   ],
   "source": [
    "null_hypothesis = 'Снижение процента возврата игроков случайность.'\n",
    "alternive_hypothesis = 'Есть статистически значимые отличия в снижении процента возврата игроков.'\n",
    "alfa = 0.05\n",
    "prop_stat = proportion.proportions_ztest(np.array([k_30, k_40]), np.array([n_30, n_40]), alternative='two-sided')\n",
    "\n",
    "if prop_stat[1] < alfa:\n",
    "    print(alternive_hypothesis)\n",
    "else:\n",
    "    print(null_hypothesis)"
   ]
  },
  {
   "cell_type": "markdown",
   "id": "c4321fe9",
   "metadata": {},
   "source": [
    "### retention_7\n",
    "#### Посчитаем процент возврата игроков на 7 день в двух группах:"
   ]
  },
  {
   "cell_type": "code",
   "execution_count": 18,
   "id": "17ff8bb2",
   "metadata": {},
   "outputs": [],
   "source": [
    "ret_7_rate_30 = round(df_30.query('retention_7 == 1').shape[0] / df_30['retention_7'].shape[0], 3) \n",
    "ret_7_rate_40 = round(df_40.query('retention_7 == 1').shape[0] / df_40['retention_7'].shape[0], 3) "
   ]
  },
  {
   "cell_type": "code",
   "execution_count": 20,
   "id": "c823dd99",
   "metadata": {},
   "outputs": [
    {
     "name": "stdout",
     "output_type": "stream",
     "text": [
      "Процент возврата игроков на 7 день в контрольной группе: 19.0\n",
      "Процент возврата игроков на 7 день в тестовой группе: 18.2\n"
     ]
    }
   ],
   "source": [
    "print('Процент возврата игроков на 7 день в контрольной группе:', ret_7_rate_30*100)\n",
    "print('Процент возврата игроков на 7 день в тестовой группе:', ret_7_rate_40*100)"
   ]
  },
  {
   "cell_type": "markdown",
   "id": "daf58812",
   "metadata": {},
   "source": [
    "#### Отличия имеются: уменьшение в тестовой группе на 0,8 %. Необходимо убедиться, что данное отличие имеет значимость или просто случайность.\n",
    "#### Но - гипотеза: снижение процента возврата игроков случайность, Н1 - гипотеза: данное снижение статистически значимо.\n",
    "#### Воспользуемся z-тестом для пропорций"
   ]
  },
  {
   "cell_type": "code",
   "execution_count": 38,
   "id": "404b5d17",
   "metadata": {},
   "outputs": [],
   "source": [
    "# количество вернувшихся игроков в контрольной группе\n",
    "k_30 = df_30['retention_7'].sum()\n",
    "\n",
    "# общее количество игроков в контрольной группе\n",
    "n_30 = df_30['retention_7'].shape[0]\n",
    "\n",
    "# количество вернувшихся игроков в тестовой группе\n",
    "k_40 = df_40['retention_7'].sum()\n",
    "\n",
    "# общее количество игроков в тестовой группе\n",
    "n_40 = df_40['retention_7'].shape[0]"
   ]
  },
  {
   "cell_type": "code",
   "execution_count": 39,
   "id": "23bc12e8",
   "metadata": {},
   "outputs": [
    {
     "name": "stdout",
     "output_type": "stream",
     "text": [
      "Есть статистически значимые отличия в снижении процента возврата игроков.\n"
     ]
    }
   ],
   "source": [
    "null_hypothesis = 'Снижение процента возврата игроков случайность.'\n",
    "alternive_hypothesis = 'Есть статистически значимые отличия в снижении процента возврата игроков.'\n",
    "alfa = 0.05\n",
    "prop_stat = proportion.proportions_ztest(np.array([k_30, k_40]), np.array([n_30, n_40]), alternative='two-sided')\n",
    "\n",
    "if prop_stat[1] < alfa:\n",
    "    print(alternive_hypothesis)\n",
    "else:\n",
    "    print(null_hypothesis)"
   ]
  },
  {
   "cell_type": "markdown",
   "id": "68adca9b",
   "metadata": {},
   "source": [
    "### Выводы:\n",
    "### Проведенный анализ по трём метрикам показал, что различия в контрольной и тестовой группах есть, но статистически значимые только по метрике 7-дневного возврата (retention_7). C 95% уверенностью можно сказать, что изменения принятые в тестовой группе уменьшили 7-дневный возврат игроков на 0,8%. Рекомендовано: не применять изменения проведенные в тестовой группе."
   ]
  }
 ],
 "metadata": {
  "kernelspec": {
   "display_name": "Python 3 (ipykernel)",
   "language": "python",
   "name": "python3"
  },
  "language_info": {
   "codemirror_mode": {
    "name": "ipython",
    "version": 3
   },
   "file_extension": ".py",
   "mimetype": "text/x-python",
   "name": "python",
   "nbconvert_exporter": "python",
   "pygments_lexer": "ipython3",
   "version": "3.11.3"
  }
 },
 "nbformat": 4,
 "nbformat_minor": 5
}
